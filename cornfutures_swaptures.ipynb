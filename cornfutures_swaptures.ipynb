{
 "cells": [
  {
   "cell_type": "markdown",
   "id": "cc373917-5379-4afb-9f3f-2e5a967f8a94",
   "metadata": {},
   "source": [
    "# Excel Workbook Analysis of Margin Call Value at Risk for Futures Contracts"
   ]
  },
  {
   "cell_type": "markdown",
   "id": "254b523d-e875-4c1f-be2c-242a807168e8",
   "metadata": {},
   "source": [
    "## Background"
   ]
  },
  {
   "cell_type": "markdown",
   "id": "ac8a0c31-80ac-46fb-855c-cfbdd58f791a",
   "metadata": {},
   "source": [
    "Below I run an Excel workbook simulation in Python, using a worksheet borrowed from the Financial Engineering and Risk Management course provided by professors Martin Haugh and Garud Iyengar of the Industrial Engineering and Operations Research department at Columbia University. The margin calls on the worksheet titled `Simulated data` is based on simulated profits and losses (P&L) for corn futures.\n",
    "\n",
    "Computing the P&L follows a simple formula, namely:\n",
    "$$\n",
    "    P_t = n_\\text{pos}\\times (P_t - P_{t-1})\\times \\frac{c}{100}\n",
    "$$\n",
    "\n",
    "where $n_\\text{pos}$ is the number of outstanding positions in the portfolio and $c$ is the value of the contract (i.e., market value for a single bushel of corn). The vested target has a margin call whenever losses fall below the maintenance margin, in which case, the margin account is reset to the initial margin, and the vested target is expected to pay the difference in order for the margin account to return to initial margin."
   ]
  },
  {
   "cell_type": "markdown",
   "id": "2f79a982-b546-459d-b640-f65765039171",
   "metadata": {},
   "source": [
    "## Imports"
   ]
  },
  {
   "cell_type": "code",
   "execution_count": 1,
   "id": "33641a37-e3f6-4459-bb9d-e292068ea43f",
   "metadata": {},
   "outputs": [],
   "source": [
    "import numpy as np\n",
    "import pandas as pd\n",
    "import matplotlib.pyplot as plt\n",
    "import pywin32_bootstrap, pywin32_system32, pywin32_testutil\n",
    "import win32com.client"
   ]
  },
  {
   "cell_type": "markdown",
   "id": "6a701d21-20b2-49ef-a364-d808af413151",
   "metadata": {},
   "source": [
    "## First Section of the Analysis"
   ]
  },
  {
   "cell_type": "markdown",
   "id": "179ef0bd-9478-462b-b52e-9643d09ae889",
   "metadata": {},
   "source": [
    "### In case I need to do something in Excel from within Python..."
   ]
  },
  {
   "cell_type": "markdown",
   "id": "8b4142d9-49dc-49ec-9107-b176f1c4bc8d",
   "metadata": {},
   "source": [
    "```\n",
    "from openpyxl import Workbook as wb, load_workbook\n",
    "\n",
    "workbook = load_workbook(filename='C://Users//salma//Documents//Economics//Financial Economics//Financial Engineering//Columbia Course//Part I/Week3//cornfutures - swaptures.xlsx', read_only=True, data_only=True)\n",
    "\n",
    "workbook['Sheet1']\n",
    "\n",
    "wb_data = pd.ExcelFile(file)\n",
    "ws_data = pd.read_excel(wb_data, index_col=None, na_values=['NA'], sheet_name='Simulated data')\n",
    "ws_\n",
    "ws_data.iloc[11:25, 6]\n",
    "```"
   ]
  },
  {
   "cell_type": "markdown",
   "id": "8463c866-159a-44be-bfcf-655d283252c3",
   "metadata": {},
   "source": [
    "### The Workbook and Worksheet I need..."
   ]
  },
  {
   "cell_type": "code",
   "execution_count": 2,
   "id": "2f27b297-9c04-4dbb-aaaa-b9db09ef3eaa",
   "metadata": {},
   "outputs": [],
   "source": [
    "file_name = 'cornfutures - swaptures.xlsx'\n",
    "file_path = 'C:\\\\Users\\\\salma\\\\Documents\\\\Economics\\\\Financial Economics\\\\Financial Engineering\\\\Columbia Course\\\\Part I\\\\Week3\\\\'"
   ]
  },
  {
   "cell_type": "markdown",
   "id": "c935e8b6-6d87-49db-a710-4d5b52d048c0",
   "metadata": {},
   "source": [
    "I begin by loading the Excel workbook into Python, where the `contract_value`, `initial_margin` of the margin account and `maintenance_margin`, required as per the contract with a broker dealer, are as follows."
   ]
  },
  {
   "cell_type": "code",
   "execution_count": 3,
   "id": "56288bb9-e819-4c9a-b6e1-82616509749c",
   "metadata": {},
   "outputs": [
    {
     "data": {
      "text/plain": [
       "{'Contract Value': 5000.0,\n",
       " 'Initial Margin': 1688.0,\n",
       " 'Maintenance Margin': 1250.0}"
      ]
     },
     "execution_count": 3,
     "metadata": {},
     "output_type": "execute_result"
    }
   ],
   "source": [
    "xl = win32com.client.DispatchEx('Excel.Application')\n",
    "wb = xl.workbooks.open(file_path+file_name)\n",
    "\n",
    "contract_value = wb.Sheets(2).Cells(3, 3).Value\n",
    "initial_margin = wb.Sheets(2).Cells(4, 3).Value\n",
    "maintenance_margin = wb.Sheets(2).Cells(5, 3).Value\n",
    "\n",
    "d = {'Contract Value': contract_value,\n",
    "     'Initial Margin': initial_margin,\n",
    "     'Maintenance Margin': maintenance_margin}; d"
   ]
  },
  {
   "cell_type": "markdown",
   "id": "dec62aa8-0f74-4fdd-8f48-a1000d6549d6",
   "metadata": {},
   "source": [
    "### Point Estimate and Standard Error"
   ]
  },
  {
   "cell_type": "markdown",
   "id": "d9a89391-154e-42df-aeea-e798838a9dd5",
   "metadata": {},
   "source": [
    "For the point estimates, I have the average value of the sampling distribution, which later I will use to calculate a corresponding Gosset t-statistic. The average value of a sampling distribution estimates its first order moment, such as mean, median or mode for a univariate parameter or mean differences and correlation for a bivariate or multivariate parameter. The point estimate is"
   ]
  },
  {
   "cell_type": "markdown",
   "id": "1eb614f5-21a9-45a5-b4e5-f868e49c7d59",
   "metadata": {},
   "source": [
    "$$^{t}\\hat{\\Theta}_i$$"
   ]
  },
  {
   "cell_type": "markdown",
   "id": "ab07c6b4-cf46-4e3e-9e35-e9abb6c858f5",
   "metadata": {},
   "source": [
    "where $t$ denotes a $t$-distributed variable, with an unknown population mean and population variance. There are four point estimates I will be taking beneath. One is for the average value of a margin call `x`, a second point estimate is for the average value of the standard deviation of margin call `s` and I take a third point estimate for the logarithmic returns in the margin account for the date range highlighted in the spreadsheet (between `Feb 22nd` and `March 15th`. There is a fourth point estimate for the standard deviation of the logirithmic returns."
   ]
  },
  {
   "cell_type": "markdown",
   "id": "6019a820-2b87-4067-883e-00f299929b20",
   "metadata": {},
   "source": [
    "The standard error of the mean $\\mu$ is the standard deviation of the sampling distribution, but it is not the standard deviation of $\\mu$, which could still be approximated, and the standard deviation is needed for coming up with confidence intervals. In fact, for sampling distributions $\\mu$ (`x`), `log_r` (`r`),  $\\sigma$ (`s`) and $\\phi$ (`u`), I have point estimates and standard errors:"
   ]
  },
  {
   "cell_type": "code",
   "execution_count": 4,
   "id": "6cf057c3-7cd8-480b-b80e-330d20a6186a",
   "metadata": {},
   "outputs": [
    {
     "data": {
      "text/plain": [
       "(129.25432566922714,\n",
       " 0.08604252613851335,\n",
       " 70.14857888313949,\n",
       " 0.6463242202708768)"
      ]
     },
     "execution_count": 4,
     "metadata": {},
     "output_type": "execute_result"
    }
   ],
   "source": [
    "μ = []\n",
    "σ = []\n",
    "ϕ = []\n",
    "\n",
    "log_r = []\n",
    "for i in range(0, 1000):\n",
    "    wb.Sheets(2).Calculate()\n",
    "    single_trial = [wb.Sheets(2).Cells(i, 7).Value for i in range(13, 28)]\n",
    "\n",
    "    log_rr = []\n",
    "    for j, x in enumerate(single_trial):\n",
    "        if j > 0:\n",
    "            log_rr.append((1-np.log(1+x)) - (1-np.log(1+single_trial[j-1])))\n",
    "\n",
    "    n = len(single_trial)\n",
    "    \n",
    "    μ.append(np.sum(single_trial) / n)\n",
    "    σ.append(np.std(single_trial) / np.sqrt(n))\n",
    "    \n",
    "    log_r.append(np.sum(log_rr) / n)\n",
    "    ϕ.append(np.std(log_rr) / np.sqrt(n))\n",
    "\n",
    "x = np.sum(μ) / len(μ)\n",
    "r = np.sum(log_r) / len(log_r)\n",
    "\n",
    "s = np.sum(σ) / len(σ)\n",
    "u = np.sum(ϕ) / len(ϕ)\n",
    "\n",
    "x, r, s, u"
   ]
  },
  {
   "cell_type": "markdown",
   "id": "be3f33f8-fb0d-498f-9c6e-7d7e715afdf0",
   "metadata": {},
   "source": [
    "$\\bar{X}$ \"could\" be used as the **point estimate** for the first order mean, and $s$ as the point estimate for the standard deviation of the sample, which is derived from a second order moment known as the sample variance, herein obtained via $1,000$ single trials of $15$ observations each. Note that the square root of the sample variance ($s^2$) is not the standard deviation of the sampling distribution of the first order mean. All sampling distributions of the first order parameters have point estimates and standard errors as follows."
   ]
  },
  {
   "cell_type": "code",
   "execution_count": 5,
   "id": "a83ac90c-da30-43b3-8eee-40e205176d0d",
   "metadata": {},
   "outputs": [],
   "source": [
    "df = np.transpose(\n",
    "    pd.DataFrame({\n",
    "        'x': [x],\n",
    "        'r': [r],\n",
    "        's': [s],\n",
    "        'u': [u]\n",
    "})); df.rename(columns={0: 'point estimate'}, inplace=True);\n",
    "\n",
    "df['standard error'] = [np.std(μ)/np.sqrt(len(μ)),\n",
    "                        np.std(log_r)/np.sqrt(len(log_r)),\n",
    "                        np.std(σ)/np.sqrt(len(σ)),\n",
    "                        np.std(ϕ)/np.sqrt(len(ϕ))]"
   ]
  },
  {
   "cell_type": "code",
   "execution_count": 6,
   "id": "c549efa5-2d2b-4f2a-a1ff-3cea3302d7dc",
   "metadata": {},
   "outputs": [
    {
     "data": {
      "text/html": [
       "<div>\n",
       "<style scoped>\n",
       "    .dataframe tbody tr th:only-of-type {\n",
       "        vertical-align: middle;\n",
       "    }\n",
       "\n",
       "    .dataframe tbody tr th {\n",
       "        vertical-align: top;\n",
       "    }\n",
       "\n",
       "    .dataframe thead th {\n",
       "        text-align: right;\n",
       "    }\n",
       "</style>\n",
       "<table border=\"1\" class=\"dataframe\">\n",
       "  <thead>\n",
       "    <tr style=\"text-align: right;\">\n",
       "      <th></th>\n",
       "      <th>point estimate</th>\n",
       "      <th>standard error</th>\n",
       "    </tr>\n",
       "  </thead>\n",
       "  <tbody>\n",
       "    <tr>\n",
       "      <th>x</th>\n",
       "      <td>129.254326</td>\n",
       "      <td>3.807615</td>\n",
       "    </tr>\n",
       "    <tr>\n",
       "      <th>r</th>\n",
       "      <td>0.086043</td>\n",
       "      <td>0.007776</td>\n",
       "    </tr>\n",
       "    <tr>\n",
       "      <th>s</th>\n",
       "      <td>70.148579</td>\n",
       "      <td>1.524075</td>\n",
       "    </tr>\n",
       "    <tr>\n",
       "      <th>u</th>\n",
       "      <td>0.646324</td>\n",
       "      <td>0.012843</td>\n",
       "    </tr>\n",
       "  </tbody>\n",
       "</table>\n",
       "</div>"
      ],
      "text/plain": [
       "   point estimate  standard error\n",
       "x      129.254326        3.807615\n",
       "r        0.086043        0.007776\n",
       "s       70.148579        1.524075\n",
       "u        0.646324        0.012843"
      ]
     },
     "execution_count": 6,
     "metadata": {},
     "output_type": "execute_result"
    }
   ],
   "source": [
    "df"
   ]
  },
  {
   "cell_type": "markdown",
   "id": "ed158f5a-e67d-4ced-99b4-fe54b6f12034",
   "metadata": {},
   "source": [
    "### Function for Computing Point Estimates and Standard Errors"
   ]
  },
  {
   "cell_type": "markdown",
   "id": "a26d263e-4ffd-4bc8-afe0-4eb43a587a08",
   "metadata": {},
   "source": [
    "From here onward, I will be using the following function for returning the sampling distributions of $\\mu$, `log_r`, $\\sigma$ and $\\phi$."
   ]
  },
  {
   "cell_type": "code",
   "execution_count": 7,
   "id": "ec8c6312-efe3-44af-9426-f22c3334434d",
   "metadata": {},
   "outputs": [],
   "source": [
    "def b():\n",
    "    μ = []\n",
    "    σ = []\n",
    "    ϕ = []\n",
    "    \n",
    "    log_r = []\n",
    "    for i in range(0, 1000):\n",
    "        wb.Sheets(2).Calculate()\n",
    "        single_trial = [wb.Sheets(2).Cells(i, 7).Value for i in range(13, 28)]\n",
    "    \n",
    "        log_rr = []\n",
    "        for j, x in enumerate(single_trial):\n",
    "            if j > 0:\n",
    "                log_rr.append((1-np.log(1+x)) - (1-np.log(1+single_trial[j-1])))\n",
    "    \n",
    "        n = len(single_trial)\n",
    "        \n",
    "        μ.append(np.sum(single_trial) / n)\n",
    "        σ.append(np.std(single_trial) / np.sqrt(n))\n",
    "        \n",
    "        log_r.append(np.sum(log_rr) / n)\n",
    "        ϕ.append(np.std(log_rr) / np.sqrt(n))\n",
    "    \n",
    "    x = np.sum(μ) / len(μ)\n",
    "    r = np.sum(log_r) / len(log_r)\n",
    "    \n",
    "    s = np.sum(σ) / len(σ)\n",
    "    u = np.sum(ϕ) / len(ϕ)\n",
    "    \n",
    "    df = np.transpose(\n",
    "        pd.DataFrame({\n",
    "            'x': [x],\n",
    "            'r': [r],\n",
    "            's': [s],\n",
    "            'u': [u]\n",
    "    })); df.rename(columns={0: 'point estimate'}, inplace=True);\n",
    "    \n",
    "    df['standard error'] = [np.std(μ)/np.sqrt(len(μ)),\n",
    "                            np.std(log_r)/np.sqrt(len(log_r)),\n",
    "                            np.std(σ)/np.sqrt(len(σ)),\n",
    "                            np.std(ϕ)/np.sqrt(len(ϕ))]\n",
    "    \n",
    "    return μ, log_r, σ, ϕ, df"
   ]
  },
  {
   "cell_type": "markdown",
   "id": "4b11bb67-8847-4d00-b63e-1a50684b466b",
   "metadata": {},
   "source": [
    "### Function for the Shape of the PDF and CDF: $μ$ and $σ$"
   ]
  },
  {
   "cell_type": "markdown",
   "id": "be821133-3bb6-480e-9dc1-b8e390050917",
   "metadata": {},
   "source": [
    "What does the shape of the sampling distribution look like. What about the cummulative distribution?"
   ]
  },
  {
   "cell_type": "code",
   "execution_count": 8,
   "id": "2e20c374-3c0a-4b19-81b9-a83cf2eee26f",
   "metadata": {},
   "outputs": [],
   "source": [
    "def d(μ, σ):\n",
    "    fig, axs = plt.subplots(2, 3)\n",
    "    axs[0, 0].hist(μ); axs[0, 0].set_title('μ pdf')\n",
    "    axs[0, 1].hist(μ, cumulative=True); axs[0, 1].set_title('μ cdf')\n",
    "    axs[0, 2].boxplot(μ); axs[0, 2].set_title('μ boxplot')\n",
    "    axs[1, 0].hist(σ); axs[1, 0].set_title('σ pdf')\n",
    "    axs[1, 1].hist(σ, cumulative=True); axs[1, 1].set_title('σ cdf')\n",
    "    axs[1, 2].boxplot(σ); axs[1, 2].set_title('σ boxplot')\n",
    "    \n",
    "    # Hide x labels and tick labels for top plots and y ticks for right plots.\n",
    "    for ax in axs.flat:\n",
    "        ax.label_outer()\n",
    "\n",
    "    fig.set_size_inches(14, 9)"
   ]
  },
  {
   "cell_type": "code",
   "execution_count": 9,
   "id": "f18b1eae-0fc5-4966-8ef3-c2bbe032c304",
   "metadata": {},
   "outputs": [
    {
     "data": {
      "image/png": "[encoded data removed]",
      "text/plain": [
       "<Figure size 1400x900 with 6 Axes>"
      ]
     },
     "metadata": {},
     "output_type": "display_data"
    }
   ],
   "source": [
    "d(μ, σ)"
   ]
  },
  {
   "cell_type": "markdown",
   "id": "5beef81e-3c40-4bd2-991a-32b6da5819d8",
   "metadata": {},
   "source": [
    "Note that we still have a problem with using $\\mu$ and $\\sigma$ as plotted above, and this has to do with outliers. Removing the oultiers is necessary for coming up with better estimates for first and higher order statistical moments."
   ]
  },
  {
   "cell_type": "markdown",
   "id": "eda38c47-27cc-4172-a4c4-3faa8b2da5a8",
   "metadata": {},
   "source": [
    "### Function for Drawing Boxplots (Separately) and a Closer Look at Outliers"
   ]
  },
  {
   "cell_type": "markdown",
   "id": "aa0697a7-8797-440f-b738-8ab1a9f62c9f",
   "metadata": {},
   "source": [
    "Before performing any transformation or doing any computations on the data, I need to draw a boxplot, computationally determine the Interquartile Range (IQR) for each of the first order moments, including returns on the margin calls for broker-dealers (labeled `r`), and what each parameter $^t\\hat\\Theta_i$ is, to remove outliers from the sampling distributions. My boxplots are determined by function `o` below,"
   ]
  },
  {
   "cell_type": "code",
   "execution_count": 10,
   "id": "22ab1238-aed9-4ad5-aab7-3a25a946b9d1",
   "metadata": {},
   "outputs": [],
   "source": [
    "def o(μ, log_r, σ, ϕ):\n",
    "    fig = plt.figure(1, figsize=(0.6*20, 0.4*20))\n",
    "    ax1 = fig.add_subplot(141)\n",
    "    ax2 = fig.add_subplot(142)\n",
    "    ax3 = fig.add_subplot(143)\n",
    "    ax4 = fig.add_subplot(144)\n",
    "    \n",
    "    ax1.boxplot(μ); ax1.set_title('μ boxplot')\n",
    "    ax2.boxplot(log_r); ax2.set_title('r boxplot')\n",
    "    ax3.boxplot(σ); ax3.set_title('σ boxplot')\n",
    "    ax4.boxplot(ϕ); ax4.set_title('ϕ boxplot')"
   ]
  },
  {
   "cell_type": "markdown",
   "id": "7ce5adca-70af-4d3b-b881-13b2468f7c84",
   "metadata": {},
   "source": [
    "which can be ran to determine outliers  for $μ$, `log_r`. $\\sigma$ and $\\phi$"
   ]
  },
  {
   "cell_type": "code",
   "execution_count": 11,
   "id": "d27e9b99-c783-48c4-800a-c6632875c456",
   "metadata": {},
   "outputs": [
    {
     "data": {
      "image/png": "[encoded data removed]",
      "text/plain": [
       "<Figure size 1200x800 with 4 Axes>"
      ]
     },
     "metadata": {},
     "output_type": "display_data"
    }
   ],
   "source": [
    "o(μ, log_r, σ, ϕ)"
   ]
  },
  {
   "cell_type": "markdown",
   "id": "55cc16cc-9c84-435d-aa4e-c62dbe593587",
   "metadata": {},
   "source": [
    "The sampling distributions of each first order moment has varying skewness. There is a problem with the parameter selection for `xrsu`. I will take a Winsorized mean, to determine the `IQR` of each first order moment, as follows."
   ]
  },
  {
   "cell_type": "code",
   "execution_count": 12,
   "id": "7d780d9f-065c-477a-aeca-4581a40e451e",
   "metadata": {},
   "outputs": [
    {
     "data": {
      "text/plain": [
       "(159.23495513956712, 0.4097957336129739, 70.47209432096975, 0.5222317568376954)"
      ]
     },
     "execution_count": 12,
     "metadata": {},
     "output_type": "execute_result"
    }
   ],
   "source": [
    "q1_μ = np.percentile(μ, 25, method='midpoint')\n",
    "q3_μ = np.percentile(μ, 75, method='midpoint')\n",
    "\n",
    "q1_r = np.percentile(log_r, 25, method='midpoint')\n",
    "q3_r = np.percentile(log_r, 75, method='midpoint')\n",
    "\n",
    "q1_σ = np.percentile(σ, 25, method='midpoint')\n",
    "q3_σ = np.percentile(σ, 75, method='midpoint')\n",
    "\n",
    "q1_ϕ = np.percentile(ϕ, 25, method='midpoint')\n",
    "q3_ϕ = np.percentile(ϕ, 75, method='midpoint')\n",
    "\n",
    "iqr_μ = q3_μ-q1_μ;\n",
    "iqr_r = q3_r-q1_r;\n",
    "iqr_σ = q3_σ-q1_σ;\n",
    "iqr_ϕ = q3_ϕ-q1_ϕ;\n",
    "\n",
    "iqr_μ, iqr_r, iqr_σ, iqr_ϕ"
   ]
  },
  {
   "cell_type": "markdown",
   "id": "54331061-93f0-44b3-a271-8b7a9c9cb786",
   "metadata": {},
   "source": [
    "which gives me a value range of"
   ]
  },
  {
   "cell_type": "markdown",
   "id": "b279778b-21d0-4057-844f-af0ef7aa7ba8",
   "metadata": {},
   "source": [
    "$$^t\\hat{\\Theta}_i \\pm 1.5 * \\text{IQR}$$"
   ]
  },
  {
   "cell_type": "markdown",
   "id": "3a160b74-d507-441e-8a30-233c20ecf5a0",
   "metadata": {},
   "source": [
    "for $\\mu$, `log_r`, $\\sigma$ and $\\phi$, as determined above."
   ]
  },
  {
   "cell_type": "markdown",
   "id": "4f93fc01-d676-4257-9a7b-48a0e8c6538e",
   "metadata": {},
   "source": [
    "I am only interested in the positive values for `μ`, `σ` and $\\phi$, since these cannot be negative, but I am interested in both positive and negative values for `log_r`, because log returns can be positive or negative. This simplifies the procedure for getting Winsorized first order moments, which as per the following algorithm"
   ]
  },
  {
   "cell_type": "code",
   "execution_count": 13,
   "id": "0bc33e0f-cd70-499c-a6c3-482541438816",
   "metadata": {},
   "outputs": [],
   "source": [
    "outliers_μ = (x - 1.5*iqr_μ, x + 1.5*iqr_μ)\n",
    "outliers_r = (r - 1.5*iqr_r, r + 1.5*iqr_r)\n",
    "outliers_σ = (s - 1.5*iqr_σ, s + 1.5*iqr_σ)\n",
    "outliers_ϕ = (u - 1.5*iqr_ϕ, u + 1.5*iqr_ϕ)\n",
    "\n",
    "for i, each in enumerate(μ):\n",
    "    if each < outliers_μ[0]:\n",
    "        μ[i] = outliers_μ[0]\n",
    "    if each > outliers_μ[1]:\n",
    "        μ[i] = outliers_μ[1]\n",
    "\n",
    "for i, each in enumerate(log_r):\n",
    "    if each < outliers_r[0]:\n",
    "        log_r[i] = outliers_r[0]\n",
    "    if each > outliers_r[1]:\n",
    "        log_r[i] = outliers_r[1]\n",
    "\n",
    "for i, each in enumerate(σ):\n",
    "    if each < outliers_σ[0]:\n",
    "        σ[i] = outliers_σ[0]\n",
    "    if each > outliers_σ[1]:\n",
    "        σ[i] = outliers_σ[1]\n",
    "\n",
    "for i, each in enumerate(ϕ):\n",
    "    if each < outliers_ϕ[0]:\n",
    "        ϕ[i] = outliers_ϕ[0]\n",
    "    if each > outliers_ϕ[1]:\n",
    "        ϕ[i] = outliers_ϕ[1]"
   ]
  },
  {
   "cell_type": "markdown",
   "id": "80f5f6a6-95c7-497e-9790-6d626e8f5af5",
   "metadata": {},
   "source": [
    "would generate the following box and whisker plots."
   ]
  },
  {
   "cell_type": "code",
   "execution_count": 14,
   "id": "c9e62936-0115-4b59-b245-07257db48049",
   "metadata": {},
   "outputs": [
    {
     "data": {
      "image/png": "[encoded data removed]",
      "text/plain": [
       "<Figure size 1200x800 with 4 Axes>"
      ]
     },
     "metadata": {},
     "output_type": "display_data"
    }
   ],
   "source": [
    "o(μ, log_r, σ, ϕ)"
   ]
  },
  {
   "cell_type": "markdown",
   "id": "7d6a6c9f-07dd-4520-9e8c-43f4214d1b9a",
   "metadata": {},
   "source": [
    "## Second Section of the Analysis"
   ]
  },
  {
   "cell_type": "markdown",
   "id": "1edf08b1-1549-4801-b78d-73f0b0952c73",
   "metadata": {},
   "source": [
    "Before I continue, I need to reevaluate the *Winsorized* parameters for $xrsu$."
   ]
  },
  {
   "cell_type": "code",
   "execution_count": 15,
   "id": "0c1f318b-e203-46ff-8ed6-3e72ada18703",
   "metadata": {},
   "outputs": [
    {
     "data": {
      "text/plain": [
       "(125.32581014918449,\n",
       " 0.08604252613851335,\n",
       " 70.00566733098408,\n",
       " 0.6459290969858944)"
      ]
     },
     "execution_count": 15,
     "metadata": {},
     "output_type": "execute_result"
    }
   ],
   "source": [
    "x = np.sum(μ) / len(μ)\n",
    "r = np.sum(log_r) / len(log_r)\n",
    "s = np.sum(σ) / len(σ)\n",
    "u = np.sum(ϕ) / len(ϕ)\n",
    "\n",
    "x, r, s, u"
   ]
  },
  {
   "cell_type": "markdown",
   "id": "7ec57c6a-da87-4f35-8bc3-98b707eff359",
   "metadata": {},
   "source": [
    "Considering the center of distribution based on the median (50th percentile), the margin calls resemble some sort of positive skewness for both `μ` and `σ`, but this is still conformal with what is expended based on the central limit theorem, where the sampling distribution for first other moment $\\hat{^t\\Theta_i}$ of t-statistic $t_i$ becomes normally distributed as the number of observations tend to infinity ($n \\rightarrow \\infty$).\n",
    "\n",
    "I may safely proceed with the following plots:"
   ]
  },
  {
   "cell_type": "code",
   "execution_count": 16,
   "id": "19702f86-6118-456d-95cb-25e835179b20",
   "metadata": {},
   "outputs": [
    {
     "data": {
      "image/png": "[encoded data removed]",
      "text/plain": [
       "<Figure size 1400x900 with 6 Axes>"
      ]
     },
     "metadata": {},
     "output_type": "display_data"
    }
   ],
   "source": [
    "d(μ, σ)"
   ]
  },
  {
   "cell_type": "markdown",
   "id": "4d4ca7c6-f4c8-456a-8952-097b1eac8634",
   "metadata": {},
   "source": [
    "with central tendency relation: $\\text{Mode} \\leq \\text{Median} \\leq \\text{Mean}$, due to positive skewness. The numeric value for $\\mu$ is"
   ]
  },
  {
   "cell_type": "code",
   "execution_count": 17,
   "id": "2d856a4a-1ea6-4227-9b8a-61cb3099ac95",
   "metadata": {},
   "outputs": [
    {
     "data": {
      "text/plain": [
       "125.32581014918449"
      ]
     },
     "execution_count": 17,
     "metadata": {},
     "output_type": "execute_result"
    }
   ],
   "source": [
    "np.mean(μ)"
   ]
  },
  {
   "cell_type": "markdown",
   "id": "3424dcb4-a2af-4990-9d10-6989a059c055",
   "metadata": {},
   "source": [
    "and the numeric value for the median is"
   ]
  },
  {
   "cell_type": "code",
   "execution_count": 18,
   "id": "dbbd5c7c-8372-4316-af52-d26e144ee634",
   "metadata": {},
   "outputs": [
    {
     "data": {
      "text/plain": [
       "100.25023344119273"
      ]
     },
     "execution_count": 18,
     "metadata": {},
     "output_type": "execute_result"
    }
   ],
   "source": [
    "np.median(μ)"
   ]
  },
  {
   "cell_type": "markdown",
   "id": "cee0fa34-4324-4a9d-98f9-d7868744ceca",
   "metadata": {},
   "source": [
    "although I could not find one for the mode without having to build an algorithm for it. I have it that the mode is the most frequent value in the distribution or a value $v \\in [0, 17]$ for $\\mu$ and $\\sigma$."
   ]
  },
  {
   "cell_type": "markdown",
   "id": "74170f24-ad6d-4694-a784-ab3663b51517",
   "metadata": {},
   "source": [
    "### Reliability Factors"
   ]
  },
  {
   "cell_type": "markdown",
   "id": "29214a4e-f6e8-4d2f-a824-ffb184a4d50c",
   "metadata": {},
   "source": [
    "T values found [here](https://www.tdistributiontable.com/)."
   ]
  },
  {
   "cell_type": "markdown",
   "id": "d0dea7fb-b879-49e3-a9eb-7a25080b9cf8",
   "metadata": {},
   "source": [
    "$$t_{\\alpha}\\text{ or }z_{\\alpha}$$"
   ]
  },
  {
   "cell_type": "markdown",
   "id": "351ea050-83bc-46fc-ba66-00d2ae4dd161",
   "metadata": {},
   "source": [
    "The reliability factor is equivalent to the kernel density score used to compute confidence intervals. For my analysis, I am considering reliability factors for the `90%`, `95%`, `97.5%` and the `99%` confidence intervals for $\\text{df} = n-1 = 14$ degrees of freedom on a Gosset t-statistic."
   ]
  },
  {
   "cell_type": "code",
   "execution_count": 19,
   "id": "43f92d31-86d2-4ab0-bf39-331c1740c5b3",
   "metadata": {},
   "outputs": [
    {
     "data": {
      "text/html": [
       "<div>\n",
       "<style scoped>\n",
       "    .dataframe tbody tr th:only-of-type {\n",
       "        vertical-align: middle;\n",
       "    }\n",
       "\n",
       "    .dataframe tbody tr th {\n",
       "        vertical-align: top;\n",
       "    }\n",
       "\n",
       "    .dataframe thead th {\n",
       "        text-align: right;\n",
       "    }\n",
       "</style>\n",
       "<table border=\"1\" class=\"dataframe\">\n",
       "  <thead>\n",
       "    <tr style=\"text-align: right;\">\n",
       "      <th></th>\n",
       "      <th>conf_int</th>\n",
       "      <th>conf_int_values</th>\n",
       "    </tr>\n",
       "  </thead>\n",
       "  <tbody>\n",
       "    <tr>\n",
       "      <th>0</th>\n",
       "      <td>90%</td>\n",
       "      <td>1.345</td>\n",
       "    </tr>\n",
       "    <tr>\n",
       "      <th>1</th>\n",
       "      <td>95%</td>\n",
       "      <td>1.761</td>\n",
       "    </tr>\n",
       "    <tr>\n",
       "      <th>2</th>\n",
       "      <td>97.5%</td>\n",
       "      <td>2.145</td>\n",
       "    </tr>\n",
       "    <tr>\n",
       "      <th>3</th>\n",
       "      <td>99%</td>\n",
       "      <td>2.624</td>\n",
       "    </tr>\n",
       "  </tbody>\n",
       "</table>\n",
       "</div>"
      ],
      "text/plain": [
       "  conf_int conf_int_values\n",
       "0      90%           1.345\n",
       "1      95%           1.761\n",
       "2    97.5%           2.145\n",
       "3      99%           2.624"
      ]
     },
     "execution_count": 19,
     "metadata": {},
     "output_type": "execute_result"
    }
   ],
   "source": [
    "conf_int = ['90%', '95%', '97.5%', '99%']\n",
    "conf_int_values = ['1.345', '1.761', '2.145', '2.624']\n",
    "\n",
    "c_ints = {'conf_int': conf_int, 'conf_int_values': conf_int_values}\n",
    "\n",
    "rf = pd.DataFrame(c_ints)\n",
    "rf"
   ]
  },
  {
   "cell_type": "markdown",
   "id": "24ba1645-76d2-4a0c-abce-b5bffa446a30",
   "metadata": {},
   "source": [
    "Here I am using the $97.5\\%$ confidence level, for $\\alpha = 5\\%$ and $\\frac{\\alpha}{2} = 2.5\\%$. "
   ]
  },
  {
   "cell_type": "markdown",
   "id": "8a4ddaf1-c922-4735-8326-da96279e162f",
   "metadata": {},
   "source": [
    "### Standard Error"
   ]
  },
  {
   "cell_type": "markdown",
   "id": "e882954e-2256-4f59-9bdd-2ddf6310aa36",
   "metadata": {},
   "source": [
    "Earlier, it was determined that the standard error would be a value"
   ]
  },
  {
   "cell_type": "markdown",
   "id": "7739dbb6-6f6f-497b-a300-15a5adc7bec8",
   "metadata": {},
   "source": [
    "$$\\text{SE} = \\frac{s}{\\sqrt{n}}$$"
   ]
  },
  {
   "cell_type": "markdown",
   "id": "c1d4e09a-1335-4b42-aed0-a1947402366e",
   "metadata": {},
   "source": [
    "or"
   ]
  },
  {
   "cell_type": "code",
   "execution_count": 20,
   "id": "59c08a00-9540-4314-938a-10691cb4c4d8",
   "metadata": {},
   "outputs": [
    {
     "data": {
      "text/html": [
       "<div>\n",
       "<style scoped>\n",
       "    .dataframe tbody tr th:only-of-type {\n",
       "        vertical-align: middle;\n",
       "    }\n",
       "\n",
       "    .dataframe tbody tr th {\n",
       "        vertical-align: top;\n",
       "    }\n",
       "\n",
       "    .dataframe thead th {\n",
       "        text-align: right;\n",
       "    }\n",
       "</style>\n",
       "<table border=\"1\" class=\"dataframe\">\n",
       "  <thead>\n",
       "    <tr style=\"text-align: right;\">\n",
       "      <th></th>\n",
       "      <th>standard errors</th>\n",
       "    </tr>\n",
       "  </thead>\n",
       "  <tbody>\n",
       "    <tr>\n",
       "      <th>se_μ</th>\n",
       "      <td>3.463395</td>\n",
       "    </tr>\n",
       "    <tr>\n",
       "      <th>se_r</th>\n",
       "      <td>0.007776</td>\n",
       "    </tr>\n",
       "    <tr>\n",
       "      <th>se_σ</th>\n",
       "      <td>1.512572</td>\n",
       "    </tr>\n",
       "    <tr>\n",
       "      <th>se_ϕ</th>\n",
       "      <td>0.012816</td>\n",
       "    </tr>\n",
       "  </tbody>\n",
       "</table>\n",
       "</div>"
      ],
      "text/plain": [
       "      standard errors\n",
       "se_μ         3.463395\n",
       "se_r         0.007776\n",
       "se_σ         1.512572\n",
       "se_ϕ         0.012816"
      ]
     },
     "execution_count": 20,
     "metadata": {},
     "output_type": "execute_result"
    }
   ],
   "source": [
    "s = np.std(μ)\n",
    "se_x = s / np.sqrt(len(μ))\n",
    "\n",
    "s = np.std(log_r)\n",
    "se_r = s / np.sqrt(len(log_r))\n",
    "\n",
    "s = np.std(σ)\n",
    "se_s = s / np.sqrt(len(σ))\n",
    "\n",
    "s = np.std(ϕ)\n",
    "se_u = s / np.sqrt(len(ϕ))\n",
    "\n",
    "df = np.transpose(\n",
    "    pd.DataFrame({'se_μ': [se_x], 'se_r': [se_r], 'se_σ': [se_s], 'se_ϕ': [se_u]})\n",
    "); df.rename(columns={0: 'standard errors'}, inplace=True); df"
   ]
  },
  {
   "cell_type": "markdown",
   "id": "7d6e39c4-190b-4df2-b954-0497de88076c",
   "metadata": {},
   "source": [
    "although I am using `se_r` for this example."
   ]
  },
  {
   "cell_type": "markdown",
   "id": "a14e885c-2825-41a4-bd38-a671ac87abfe",
   "metadata": {},
   "source": [
    "### Confidence Interval"
   ]
  },
  {
   "cell_type": "markdown",
   "id": "b4e0bb83-dcf5-41cd-b23c-c89e26e01662",
   "metadata": {},
   "source": [
    "Putting it all together, I have"
   ]
  },
  {
   "cell_type": "markdown",
   "id": "aa350fdd-bebe-4408-b158-a4c6d719f01a",
   "metadata": {},
   "source": [
    "$$\\text{CI} = \\text{PE} \\pm \\text{RF}\\times \\text{SE}$$\n",
    "$$\\text{CI} = \\bar{X} \\pm t_{\\alpha/2}\\times\\frac{s}{\\sqrt{n}}$$"
   ]
  },
  {
   "cell_type": "markdown",
   "id": "171e9faf-9cfc-4cb4-bb96-635369658696",
   "metadata": {},
   "source": [
    "where $s$ is equal to the sampling distribution of $\\phi$, the standard deviation of the returns, as a first order moment, and $n$ is the number of observations in the sampling distribution of $\\phi$, "
   ]
  },
  {
   "cell_type": "code",
   "execution_count": 21,
   "id": "a870c85f-b129-4ed9-acc6-b8b6350d9cd3",
   "metadata": {},
   "outputs": [
    {
     "data": {
      "text/plain": [
       "(0.06936251040157126, 0.10272254187545543)"
      ]
     },
     "execution_count": 21,
     "metadata": {},
     "output_type": "execute_result"
    }
   ],
   "source": [
    "ci = (r-float(rf['conf_int_values'][2])*se_r, r+float(rf['conf_int_values'][2])*se_r)\n",
    "ci"
   ]
  },
  {
   "cell_type": "markdown",
   "id": "72032617-c301-4ed1-bac3-eed7fc0fa91f",
   "metadata": {},
   "source": [
    "### 5% Value-at-Risk (VaR) [Parametric Method]"
   ]
  },
  {
   "cell_type": "markdown",
   "id": "0ca0b963-f2b6-49fe-af70-23a5e6ac4fda",
   "metadata": {},
   "source": [
    "Suppose $\\$5,000$ is deposited, or the full contract value of a single position in the underlying commodity (corn, in this case). How much of these $\\$5,000$ is put at risk by using futures contract, with initial margin $\\$1,688$ and maintenance margin $\\$1,250$?"
   ]
  },
  {
   "cell_type": "code",
   "execution_count": 22,
   "id": "9e4aeea8-4ba2-4d92-8f43-3754202b266f",
   "metadata": {},
   "outputs": [
    {
     "data": {
      "text/plain": [
       "498.6823456407136"
      ]
     },
     "execution_count": 22,
     "metadata": {},
     "output_type": "execute_result"
    }
   ],
   "source": [
    "5000*(r+se_r*float(rf['conf_int_values'][1]))"
   ]
  },
  {
   "cell_type": "markdown",
   "id": "0e2071ff-3772-4678-86c7-129e83e4a0f5",
   "metadata": {},
   "source": [
    "As can be seen, the value at risk is small compared to the $\\$5,000$ contract value or even the $\\$1,688$ required in a margin account by the broker. In the below section, I extend the single position contract into a contract involving incremental positions."
   ]
  },
  {
   "cell_type": "markdown",
   "id": "f45be176-feb2-4a74-a437-0be2729b07fc",
   "metadata": {},
   "source": [
    "## Third Section of the Analysis"
   ]
  },
  {
   "cell_type": "markdown",
   "id": "57fada74-27cd-4012-ab43-f47b7aa3c25d",
   "metadata": {},
   "source": [
    "In this third section of the analysis, I will be studying the value at risk for various positions on a single commodity, namely, bushels of corn, where according to the exercise, one bushel of corn has a contract value of $5,000$ and $\\frac{\\text{no}}{100}$ dollars. I will be incrementally increasing the positions, to model a corn trader taking the decision to buy extra bushels of corn (up to 10 at a time) or hold the current position, based on the binomial variabnle $X \\sim \\text{Bin}(n, p)$ with probability mass function"
   ]
  },
  {
   "cell_type": "markdown",
   "id": "dc298dff-7c5e-4c0c-8b4d-c9e0ce472b1f",
   "metadata": {},
   "source": [
    "$$\n",
    "    f(k, n, p) = P(k; n, p) = Pr(X = k) = \\binom{n}{k}p^k(1 - p)^{n - k}\n",
    "$$"
   ]
  },
  {
   "cell_type": "markdown",
   "id": "d8be12c4-b1d1-4a3b-b64f-1d4415a5ef93",
   "metadata": {},
   "source": [
    "and cummulative distribution function"
   ]
  },
  {
   "cell_type": "markdown",
   "id": "c4951693-5deb-4a70-997a-399777e32969",
   "metadata": {},
   "source": [
    "$$\n",
    "    F(r; k \\leq r \\leq n) = \\sum_{k=0}^{r} \\binom{n}{k}p^k(1 - p)^{n - k}\n",
    "$$"
   ]
  },
  {
   "cell_type": "markdown",
   "id": "20475a76-af59-4038-8c33-99371d0498c7",
   "metadata": {},
   "source": [
    "where I am sampling using the following probability vector for the position increments, starting at $1$ for day $1$, over $14$ days"
   ]
  },
  {
   "cell_type": "markdown",
   "id": "9603f57a-1658-44b3-a684-1c14068246e7",
   "metadata": {},
   "source": [
    "$$\n",
    "    P = \\frac{1}{100}(37, 19, 17, 11, 7, 1.7, 1.5, 1.5, 1.3, 1.2, 1.0, 0.7, 0.07, 0.03)^t\n",
    "$$"
   ]
  },
  {
   "cell_type": "markdown",
   "id": "4c6b83e7-2c67-4b15-a6e0-1591bfd3c625",
   "metadata": {},
   "source": [
    "which, after taking these increments, gives me the following asset positions."
   ]
  },
  {
   "cell_type": "code",
   "execution_count": 23,
   "id": "2cce25b4-c413-4466-80f8-866d16873ead",
   "metadata": {},
   "outputs": [
    {
     "data": {
      "text/plain": [
       "[1, 2, 3, 5, 5, 6, 6, 6, 6, 6, 6, 6, 6, 6, 6]"
      ]
     },
     "execution_count": 23,
     "metadata": {},
     "output_type": "execute_result"
    }
   ],
   "source": [
    "pos = [1]\n",
    "countdown = 14\n",
    "\n",
    "probs = np.random.binomial(n=10, p=(1/100)*np.transpose([37, 19, 17, 11, 7, 1.7, 1.5, 1.5, 1.3, 1.2, 1.0, 0.7, 0.07, 0.03]))\n",
    "\n",
    "i = 1\n",
    "while countdown > 0:\n",
    "    countdown -= 1\n",
    "    pos.append(pos[i-1] + probs[i-1]); i += 1\n",
    "\n",
    "pos"
   ]
  },
  {
   "cell_type": "markdown",
   "id": "d20f6412-7f7c-46ab-961c-4f38bf9afadc",
   "metadata": {},
   "source": [
    "Now to do the fun part, which is to modify the worksheet, using a \"buy and hold\" strategy for each new positions obtained during the $15$ consecutive days."
   ]
  },
  {
   "cell_type": "code",
   "execution_count": 24,
   "id": "d3a0528f-8e1a-49ef-b608-e0dbffd77e48",
   "metadata": {},
   "outputs": [],
   "source": [
    "for i, x in enumerate(range(12, 27)):\n",
    "    wb.Sheets(2).Cells(x, 4).Value = pos[i]"
   ]
  },
  {
   "cell_type": "markdown",
   "id": "210ca6d7-1f43-450a-9dc1-4c8770ce3199",
   "metadata": {},
   "source": [
    "Once again, here are the sampling distributions of $μ$, `log_r` and $σ$ as well as $\\phi$, their respective point estimates and standard errors:"
   ]
  },
  {
   "cell_type": "code",
   "execution_count": 25,
   "id": "b06f7ee8-bd0c-4011-b1da-2784483a7680",
   "metadata": {},
   "outputs": [
    {
     "data": {
      "text/html": [
       "<div>\n",
       "<style scoped>\n",
       "    .dataframe tbody tr th:only-of-type {\n",
       "        vertical-align: middle;\n",
       "    }\n",
       "\n",
       "    .dataframe tbody tr th {\n",
       "        vertical-align: top;\n",
       "    }\n",
       "\n",
       "    .dataframe thead th {\n",
       "        text-align: right;\n",
       "    }\n",
       "</style>\n",
       "<table border=\"1\" class=\"dataframe\">\n",
       "  <thead>\n",
       "    <tr style=\"text-align: right;\">\n",
       "      <th></th>\n",
       "      <th>point estimate</th>\n",
       "      <th>standard error</th>\n",
       "    </tr>\n",
       "  </thead>\n",
       "  <tbody>\n",
       "    <tr>\n",
       "      <th>x</th>\n",
       "      <td>1191.412158</td>\n",
       "      <td>20.986411</td>\n",
       "    </tr>\n",
       "    <tr>\n",
       "      <th>r</th>\n",
       "      <td>0.420896</td>\n",
       "      <td>0.005860</td>\n",
       "    </tr>\n",
       "    <tr>\n",
       "      <th>s</th>\n",
       "      <td>527.089412</td>\n",
       "      <td>6.256045</td>\n",
       "    </tr>\n",
       "    <tr>\n",
       "      <th>u</th>\n",
       "      <td>1.119515</td>\n",
       "      <td>0.010600</td>\n",
       "    </tr>\n",
       "  </tbody>\n",
       "</table>\n",
       "</div>"
      ],
      "text/plain": [
       "   point estimate  standard error\n",
       "x     1191.412158       20.986411\n",
       "r        0.420896        0.005860\n",
       "s      527.089412        6.256045\n",
       "u        1.119515        0.010600"
      ]
     },
     "execution_count": 25,
     "metadata": {},
     "output_type": "execute_result"
    }
   ],
   "source": [
    "μ, log_r, σ, ϕ, df = b(); df"
   ]
  },
  {
   "cell_type": "markdown",
   "id": "4fe2ba08-7020-4f4d-9a58-9986e721e5ee",
   "metadata": {},
   "source": [
    "Here are replotted graphics for the boxplots."
   ]
  },
  {
   "cell_type": "code",
   "execution_count": 26,
   "id": "2107d67e-16d0-4efa-88af-c99b32611e5e",
   "metadata": {},
   "outputs": [
    {
     "data": {
      "image/png": "[encoded data removed]",
      "text/plain": [
       "<Figure size 1200x800 with 4 Axes>"
      ]
     },
     "metadata": {},
     "output_type": "display_data"
    }
   ],
   "source": [
    "o(μ, log_r, σ, ϕ)"
   ]
  },
  {
   "cell_type": "markdown",
   "id": "9d98e1b8-0ac3-47d1-b538-f781dc6a329c",
   "metadata": {},
   "source": [
    "In this particular case, there are more outliers, as would be expected from incrementally adding positions to the existing portfolio. If I wanted to deal with the outliers, I can do as before, although I would like for the reader to take note of the fact that the boxplot of margin call returns to the broker has negative skewness, with many outliers, unlike before. I can remove the outliers once again,"
   ]
  },
  {
   "cell_type": "code",
   "execution_count": 37,
   "id": "96cf3d45-e21c-4a3a-8d3e-ff4c90f8eb8e",
   "metadata": {},
   "outputs": [],
   "source": [
    "q1_μ = np.percentile(μ, 25, method='midpoint')\n",
    "q3_μ = np.percentile(μ, 75, method='midpoint')\n",
    "\n",
    "q1_σ = np.percentile(σ, 25, method='midpoint')\n",
    "q3_σ = np.percentile(σ, 75, method='midpoint')\n",
    "\n",
    "q1_r = np.percentile(log_r, 25, method='midpoint')\n",
    "q3_r = np.percentile(log_r, 75, method='midpoint')\n",
    "\n",
    "iqr_μ = q3_μ-q1_μ;\n",
    "iqr_σ = q3_σ-q1_σ;\n",
    "iqr_r = q3_r-q1_r;\n",
    "\n",
    "outliers_μ = (x - 1.5*iqr_μ, x + 1.5*iqr_μ)\n",
    "outliers_σ = (s - 1.5*iqr_σ, s + 1.5*iqr_σ)\n",
    "outliers_r = (r - 1.5*iqr_r, r + 1.5*iqr_r)\n",
    "\n",
    "for i, each in enumerate(μ):\n",
    "    if each < outliers_μ[0]:\n",
    "        μ[i] = outliers_μ[0]\n",
    "    if each > outliers_μ[1]:\n",
    "        μ[i] = outliers_μ[1]\n",
    "\n",
    "for i, each in enumerate(log_r):\n",
    "    if each < outliers_r[0]:\n",
    "        log_r[i] = outliers_r[0]\n",
    "    if each > outliers_r[1]:\n",
    "        log_r[i] = outliers_r[1]\n",
    "\n",
    "for i, each in enumerate(σ):\n",
    "    if each < outliers_σ[0]:\n",
    "        σ[i] = outliers_σ[0]\n",
    "    if each > outliers_σ[1]:\n",
    "        σ[i] = outliers_σ[1]\n",
    "\n",
    "for i, each in enumerate(ϕ):\n",
    "    if each < outliers_ϕ[0]:\n",
    "        ϕ[i] = outliers_ϕ[0]\n",
    "    if each > outliers_ϕ[1]:\n",
    "        ϕ[i] = outliers_ϕ[1]"
   ]
  },
  {
   "cell_type": "markdown",
   "id": "33a85ac7-c980-459c-b092-3e75caa44659",
   "metadata": {},
   "source": [
    "thereby resulting in the following histograms and boxplots for $\\mu$ and $\\sigma$,"
   ]
  },
  {
   "cell_type": "code",
   "execution_count": 38,
   "id": "e69af259-808b-44a4-bc5a-472b39c2f418",
   "metadata": {},
   "outputs": [
    {
     "data": {
      "image/png": "[encoded data removed]",
      "text/plain": [
       "<Figure size 1400x900 with 6 Axes>"
      ]
     },
     "metadata": {},
     "output_type": "display_data"
    }
   ],
   "source": [
    "d(μ, σ)"
   ]
  },
  {
   "cell_type": "markdown",
   "id": "486026c0-4fe0-4df6-b99d-62b2f075e799",
   "metadata": {},
   "source": [
    "and boxplots for all first order moments brought together."
   ]
  },
  {
   "cell_type": "code",
   "execution_count": 39,
   "id": "8153bcea-5ba3-4b04-91e5-ae0ffd65a140",
   "metadata": {},
   "outputs": [
    {
     "data": {
      "image/png": "[encoded data removed]",
      "text/plain": [
       "<Figure size 1200x800 with 4 Axes>"
      ]
     },
     "metadata": {},
     "output_type": "display_data"
    }
   ],
   "source": [
    "o(μ, log_r, σ, ϕ)"
   ]
  },
  {
   "cell_type": "markdown",
   "id": "9c9991f6-6362-491b-9e84-1300cdffd280",
   "metadata": {},
   "source": [
    "### Hypothesis Testing for 5% Value at Risk"
   ]
  },
  {
   "cell_type": "markdown",
   "id": "95bd2033-f267-4063-abf3-5789e9459a86",
   "metadata": {},
   "source": [
    "A $5\\%$ value at risk gives me how much money I will lose with $95\\%$ confidence in a one-tailed test, piece-wise defined as follows."
   ]
  },
  {
   "cell_type": "markdown",
   "id": "5c4c5a7e-25f6-402c-a772-2e663ba16a4a",
   "metadata": {},
   "source": [
    "$$\n",
    "    \\begin{cases}\n",
    "        H_0 & \\Theta \\leq \\Theta_0 \\\\\n",
    "        H_a & \\Theta \\gt \\Theta_0\n",
    "    \\end{cases}\n",
    "$$"
   ]
  },
  {
   "cell_type": "markdown",
   "id": "cba62511-054c-4c76-a622-ca147a8ddff3",
   "metadata": {},
   "source": [
    "where $\\Theta_0 = r_0$ for this example. Let us say the hypothesized value is $7\\%$ return, so $r_0 = 0.07$."
   ]
  },
  {
   "cell_type": "markdown",
   "id": "df662731-4faf-43aa-bb8d-ab9911c01ae3",
   "metadata": {},
   "source": [
    "I can then calculate the t-statistic for the first order moment `log_r`, which is"
   ]
  },
  {
   "cell_type": "markdown",
   "id": "50b85a6b-6c88-4ff9-bd7e-2463a5fa6615",
   "metadata": {},
   "source": [
    "$$\n",
    "    t = \\frac{\\bar{r}-{r_0}}{s/\\sqrt{n}}\n",
    "$$"
   ]
  },
  {
   "cell_type": "markdown",
   "id": "c85e9252-8709-4555-adf6-946e85a29520",
   "metadata": {},
   "source": [
    "or"
   ]
  },
  {
   "cell_type": "code",
   "execution_count": 30,
   "id": "718fb9fd-0dc4-4a36-a2a5-a3106071d260",
   "metadata": {},
   "outputs": [
    {
     "data": {
      "text/plain": [
       "1.513466555366436"
      ]
     },
     "execution_count": 30,
     "metadata": {},
     "output_type": "execute_result"
    }
   ],
   "source": [
    "t = (r - 0.07) / (df['standard error'].iloc[3]); t"
   ]
  },
  {
   "cell_type": "markdown",
   "id": "45d3d7cc-94b6-4287-8793-4bac6d293545",
   "metadata": {},
   "source": [
    "and the critical value at the $5\\%$ level of significance was determined to be $1.761$. The given t-value falls within the confidence region.\n",
    "\n",
    "$\\therefore$, the null hypothesis ($H_0$) cannot be rejected at the $95\\%$ in favor of the alternative ($H_a$); this means that there is sufficient evidence to suggest that there is very little volatility in the mean return for the \"buy and hold\" strategy with binomial decisions following probability vector"
   ]
  },
  {
   "cell_type": "markdown",
   "id": "350334da-5a9d-485c-9f48-e20c9c0f6387",
   "metadata": {},
   "source": [
    "$$\n",
    "    P = \\frac{1}{100}(37, 19, 17, 11, 7, 1.7, 1.5, 1.5, 1.3, 1.2, 1.0, 0.7, 0.07, 0.03)^t\n",
    "$$"
   ]
  },
  {
   "cell_type": "markdown",
   "id": "0d57add9-37c2-4c69-b66f-406539b884ad",
   "metadata": {},
   "source": [
    "as done above, with binomial decisions $\\{\\text{\"buy\"}, \\text{\"hold\"}\\}$."
   ]
  },
  {
   "cell_type": "markdown",
   "id": "b346ddd9-b25a-481f-a5df-720b464d5e99",
   "metadata": {},
   "source": [
    "### Quick Self-Tip"
   ]
  },
  {
   "cell_type": "markdown",
   "id": "6741e45c-b843-46d9-b684-313db89d0247",
   "metadata": {},
   "source": [
    "If I wanted to calculate the critical t-values, instead of looking into a table, I can use the following `scypi` function in Python with `df` equal to 14."
   ]
  },
  {
   "cell_type": "code",
   "execution_count": 31,
   "id": "5d3e17b0-c899-4f4a-8f29-f8d661dfa6fe",
   "metadata": {},
   "outputs": [
    {
     "data": {
      "text/plain": [
       "1.7613101357748562"
      ]
     },
     "execution_count": 31,
     "metadata": {},
     "output_type": "execute_result"
    }
   ],
   "source": [
    "from scipy.stats import t\n",
    "\n",
    "t.ppf(0.95, df = 14)"
   ]
  },
  {
   "cell_type": "markdown",
   "id": "22d662c6-def4-43c1-8113-800e1310456d",
   "metadata": {},
   "source": [
    "### The New Confidence Interval"
   ]
  },
  {
   "cell_type": "code",
   "execution_count": 40,
   "id": "a54c234a-0496-455f-a1a2-166f4aef7dec",
   "metadata": {},
   "outputs": [
    {
     "data": {
      "text/plain": [
       "(0.06936251040157126, 0.10272254187545543)"
      ]
     },
     "execution_count": 40,
     "metadata": {},
     "output_type": "execute_result"
    }
   ],
   "source": [
    "ci = (r-float(rf['conf_int_values'][2])*se_r, r+float(rf['conf_int_values'][2])*se_r)\n",
    "ci"
   ]
  },
  {
   "cell_type": "markdown",
   "id": "f08fa091-fb1f-406a-9bdc-d38b7ddbc180",
   "metadata": {},
   "source": [
    "### With $95\\%$ confidence..."
   ]
  },
  {
   "cell_type": "markdown",
   "id": "4e021bcc-2a5b-467b-a08e-1835cba4fb81",
   "metadata": {},
   "source": [
    "The tertiary market producer would lose"
   ]
  },
  {
   "cell_type": "code",
   "execution_count": 42,
   "id": "b7998a3d-eb78-41d9-af66-f1090db4224a",
   "metadata": {},
   "outputs": [
    {
     "data": {
      "text/plain": [
       "39034.56591267306"
      ]
     },
     "execution_count": 42,
     "metadata": {},
     "output_type": "execute_result"
    }
   ],
   "source": [
    "sum(pos)*5000*(r+se_r*float(rf['conf_int_values'][2]))"
   ]
  },
  {
   "cell_type": "markdown",
   "id": "fcd86dac-4352-49e7-ba0b-8952a5142020",
   "metadata": {},
   "source": [
    "but that is not too bad, considering the purchase of"
   ]
  },
  {
   "cell_type": "code",
   "execution_count": 43,
   "id": "002c13c3-9eed-45b6-a11b-4c971ecc5a56",
   "metadata": {},
   "outputs": [
    {
     "data": {
      "text/plain": [
       "76"
      ]
     },
     "execution_count": 43,
     "metadata": {},
     "output_type": "execute_result"
    }
   ],
   "source": [
    "sum(pos)"
   ]
  },
  {
   "cell_type": "markdown",
   "id": "70d739ee-b7e9-4e9b-957c-58e48a6998ee",
   "metadata": {},
   "source": [
    "$76$ bushels of corn; this is what is paid to the broker. The same $\\$50,000$ contract for every bushel of corn in $76$, the equivalent of"
   ]
  },
  {
   "cell_type": "code",
   "execution_count": 44,
   "id": "243ea304-8040-466e-86d8-063fd9989159",
   "metadata": {},
   "outputs": [
    {
     "data": {
      "text/plain": [
       "3800000"
      ]
     },
     "execution_count": 44,
     "metadata": {},
     "output_type": "execute_result"
    }
   ],
   "source": [
    "50000*76"
   ]
  },
  {
   "cell_type": "markdown",
   "id": "1b53496c-06f4-4e8d-b2e4-e33f89e039ab",
   "metadata": {},
   "source": [
    "or $3$ million $800,000$ and $\\frac{\\text{no}}{100}$ dollars, which means that"
   ]
  },
  {
   "cell_type": "code",
   "execution_count": 46,
   "id": "37bac575-add9-4f66-8477-d4cab38b31b3",
   "metadata": {},
   "outputs": [
    {
     "data": {
      "text/plain": [
       "0.00559316978619654"
      ]
     },
     "execution_count": 46,
     "metadata": {},
     "output_type": "execute_result"
    }
   ],
   "source": [
    "(sum(pos)*5000*(r+se_r*ci[1])) / (50000*118)"
   ]
  },
  {
   "cell_type": "markdown",
   "id": "1dbf8dd1-9b57-403b-9013-272769ac0af1",
   "metadata": {},
   "source": [
    "or $0.559\\%$ percent of the original purchase (rounded to four significant figures) is put at risk by paying to a broker-dealer as opposed to buying through a secondary market directly, which involves unknown risk."
   ]
  }
 ],
 "metadata": {
  "kernelspec": {
   "display_name": "Python 3 (ipykernel)",
   "language": "python",
   "name": "python3"
  },
  "language_info": {
   "codemirror_mode": {
    "name": "ipython",
    "version": 3
   },
   "file_extension": ".py",
   "mimetype": "text/x-python",
   "name": "python",
   "nbconvert_exporter": "python",
   "pygments_lexer": "ipython3",
   "version": "3.11.7"
  }
 },
 "nbformat": 4,
 "nbformat_minor": 5
}
